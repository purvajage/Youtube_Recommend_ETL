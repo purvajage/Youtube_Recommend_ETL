{
  "cells": [
    {
      "cell_type": "markdown",
      "id": "0wCyW8k45E-a",
      "metadata": {
        "id": "0wCyW8k45E-a"
      },
      "source": [
        "# Xử lý trước khi đưa vào Asset"
      ]
    },
    {
      "cell_type": "markdown",
      "id": "6880fc6d",
      "metadata": {
        "id": "6880fc6d"
      },
      "source": [
        "# Import Library"
      ]
    },
    {
      "cell_type": "code",
      "execution_count": 1,
      "id": "8kaoHMK_lY1U",
      "metadata": {
        "colab": {
          "base_uri": "https://localhost:8080/"
        },
        "id": "8kaoHMK_lY1U",
        "outputId": "10480db2-cc8d-44ef-8fda-0c3bba66971f"
      },
      "outputs": [
        {
          "name": "stdout",
          "output_type": "stream",
          "text": [
            "Mounted at /content/drive\n"
          ]
        }
      ],
      "source": [
        "from google.colab import drive\n",
        "drive.mount('/content/drive')"
      ]
    },
    {
      "cell_type": "code",
      "execution_count": 4,
      "id": "6-BAYjQS2NzN",
      "metadata": {
        "id": "6-BAYjQS2NzN"
      },
      "outputs": [],
      "source": [
        "from pyspark.sql import SparkSession, DataFrame\n",
        "from pyspark.sql.types import IntegerType, StringType\n",
        "from pyspark.sql.functions import udf, to_timestamp"
      ]
    },
    {
      "cell_type": "code",
      "execution_count": 6,
      "id": "45adf8f6-0480-49af-966b-d1dfefa29ab3",
      "metadata": {
        "id": "45adf8f6-0480-49af-966b-d1dfefa29ab3"
      },
      "outputs": [],
      "source": [
        "# Create SparkSession object\n",
        "spark = SparkSession.builder \\\n",
        "                    .appName(\"HomeWork-W6\") \\\n",
        "                    .getOrCreate()"
      ]
    },
    {
      "cell_type": "code",
      "execution_count": 8,
      "id": "dhgY_ug22qoX",
      "metadata": {
        "id": "dhgY_ug22qoX"
      },
      "outputs": [],
      "source": [
        "spark_df = spark.read.parquet(\"/content/drive/MyDrive/Colab Notebooks/202204.pq\")"
      ]
    },
    {
      "cell_type": "code",
      "execution_count": 9,
      "id": "dY1y4YBf2zox",
      "metadata": {
        "colab": {
          "base_uri": "https://localhost:8080/"
        },
        "id": "dY1y4YBf2zox",
        "outputId": "329f8ff8-632c-4018-e840-94cf7f8da43d"
      },
      "outputs": [
        {
          "name": "stdout",
          "output_type": "stream",
          "text": [
            "+-----------+--------------------+--------------------+--------------------+---------------+----------+--------------------+--------------------+----------+-----+--------+-------------+--------------------+-----------------+----------------+\n",
            "|   video_id|               title|         publishedAt|           channelId|   channelTitle|categoryId|       trending_date|                tags|view_count|likes|dislikes|comment_count|      thumbnail_link|comments_disabled|ratings_disabled|\n",
            "+-----------+--------------------+--------------------+--------------------+---------------+----------+--------------------+--------------------+----------+-----+--------+-------------+--------------------+-----------------+----------------+\n",
            "|zoHGxJKjC_Y|Heiratsantrag, di...|2022-04-01T16:36:48Z|UCm3_j4RLEzgMovQT...|   Drachen Lord|        24|2022-04-02T00:00:00Z|drachenlord origi...|    126194| 4922|       0|         2069|https://i.ytimg.c...|            False|           False|\n",
            "|s38-OigKoIU|Nachgefragt: Panz...|2022-04-01T11:03:23Z|UClCZul-nK9h8eVo7...|     Bundeswehr|        25|2022-04-02T00:00:00Z|Bundeswehr|Soldat...|    345217|10056|       0|         1927|https://i.ytimg.c...|            False|           False|\n",
            "|fn_DBhbEscA|Aprilscherze in d...|2022-04-01T12:00:31Z|UC6UrlhHQXm9tWhZc...|     How2Shirli|        22|2022-04-02T00:00:00Z|              [None]|    353375|47638|       0|          517|https://i.ytimg.c...|            False|           False|\n",
            "|JpiJT7lLuAE|       MOIN GERHARD!|2022-04-01T12:33:48Z|UC3oj6YrK6Tj3tR6-...|      Tom Stein|        24|2022-04-02T00:00:00Z|              [None]|     67361| 6114|       0|          435|https://i.ytimg.c...|            False|           False|\n",
            "|u_D9tg3cK1w|Saltatio Mortis f...|2022-04-01T10:01:34Z|UCDGhwUyQMvcNqz15...|Saltatio Mortis|        24|2022-04-02T00:00:00Z|Saltatio Morits|H...|     34958|  572|       0|          163|https://i.ytimg.c...|            False|           False|\n",
            "+-----------+--------------------+--------------------+--------------------+---------------+----------+--------------------+--------------------+----------+-----+--------+-------------+--------------------+-----------------+----------------+\n",
            "only showing top 5 rows\n",
            "\n"
          ]
        }
      ],
      "source": [
        "spark_df.show(5)"
      ]
    },
    {
      "cell_type": "code",
      "execution_count": 10,
      "id": "v7aGpy5328MN",
      "metadata": {
        "colab": {
          "base_uri": "https://localhost:8080/"
        },
        "id": "v7aGpy5328MN",
        "outputId": "fed2732f-d0c5-4e72-88e7-53360849b9e5"
      },
      "outputs": [
        {
          "name": "stdout",
          "output_type": "stream",
          "text": [
            "root\n",
            " |-- video_id: string (nullable = true)\n",
            " |-- title: string (nullable = true)\n",
            " |-- publishedAt: string (nullable = true)\n",
            " |-- channelId: string (nullable = true)\n",
            " |-- channelTitle: string (nullable = true)\n",
            " |-- categoryId: string (nullable = true)\n",
            " |-- trending_date: string (nullable = true)\n",
            " |-- tags: string (nullable = true)\n",
            " |-- view_count: string (nullable = true)\n",
            " |-- likes: string (nullable = true)\n",
            " |-- dislikes: string (nullable = true)\n",
            " |-- comment_count: string (nullable = true)\n",
            " |-- thumbnail_link: string (nullable = true)\n",
            " |-- comments_disabled: string (nullable = true)\n",
            " |-- ratings_disabled: string (nullable = true)\n",
            "\n"
          ]
        }
      ],
      "source": [
        "spark_df.printSchema()"
      ]
    },
    {
      "cell_type": "code",
      "execution_count": 7,
      "id": "tQW9x4yi2Fta",
      "metadata": {
        "id": "tQW9x4yi2Fta"
      },
      "outputs": [],
      "source": [
        "def replace_str(value: str):\n",
        "    return value.replace(\"default\", \"maxresdefault\")\n",
        "\n",
        "def format_date(value: str):\n",
        "    return value.replace(\"T\", \" \").replace(\"Z\", \"\")"
      ]
    },
    {
      "cell_type": "code",
      "execution_count": 11,
      "id": "Wcl-xS4r2Fwq",
      "metadata": {
        "id": "Wcl-xS4r2Fwq"
      },
      "outputs": [],
      "source": [
        "date_format = udf(format_date, StringType())\n",
        "spark_df = spark_df.withColumn(\"publishedAt\", date_format(spark_df[\"publishedAt\"]))"
      ]
    },
    {
      "cell_type": "code",
      "execution_count": 12,
      "id": "r6hpuRoT3he6",
      "metadata": {
        "colab": {
          "base_uri": "https://localhost:8080/"
        },
        "id": "r6hpuRoT3he6",
        "outputId": "581b6d63-cf30-4e86-a472-e8844d928326"
      },
      "outputs": [
        {
          "name": "stdout",
          "output_type": "stream",
          "text": [
            "+-------------------+\n",
            "|        publishedAt|\n",
            "+-------------------+\n",
            "|2022-04-01 16:36:48|\n",
            "|2022-04-01 11:03:23|\n",
            "+-------------------+\n",
            "only showing top 2 rows\n",
            "\n"
          ]
        }
      ],
      "source": [
        "spark_df.select(\"publishedAt\").show(2)"
      ]
    },
    {
      "cell_type": "code",
      "execution_count": 13,
      "id": "AN2oaZJm2F5E",
      "metadata": {
        "id": "AN2oaZJm2F5E"
      },
      "outputs": [],
      "source": [
        "# Convert date type of column publishedAt to datetime data type\n",
        "spark_df = spark_df.withColumn(\"publishedAt\", to_timestamp(\"publishedAt\"))"
      ]
    },
    {
      "cell_type": "code",
      "execution_count": 14,
      "id": "wOsobTLN2F7Q",
      "metadata": {
        "id": "wOsobTLN2F7Q"
      },
      "outputs": [],
      "source": [
        "# Convert date type of column categoryId to integer data type\n",
        "spark_df = spark_df.withColumn(\"categoryId\", spark_df[\"categoryId\"].cast(IntegerType()))"
      ]
    },
    {
      "cell_type": "code",
      "execution_count": 15,
      "id": "g6FcJJ1N2F-O",
      "metadata": {
        "id": "g6FcJJ1N2F-O"
      },
      "outputs": [],
      "source": [
        "# trending_date replace to format date\n",
        "spark_df = spark_df.withColumn(\"trending_date\", date_format(spark_df[\"trending_date\"]))"
      ]
    },
    {
      "cell_type": "code",
      "execution_count": 16,
      "id": "JSNG_4MW4ELz",
      "metadata": {
        "colab": {
          "base_uri": "https://localhost:8080/"
        },
        "id": "JSNG_4MW4ELz",
        "outputId": "c16f96a7-9267-40da-c2d1-7b0f429fc15c"
      },
      "outputs": [
        {
          "name": "stdout",
          "output_type": "stream",
          "text": [
            "+-------------------+\n",
            "|      trending_date|\n",
            "+-------------------+\n",
            "|2022-04-02 00:00:00|\n",
            "|2022-04-02 00:00:00|\n",
            "+-------------------+\n",
            "only showing top 2 rows\n",
            "\n"
          ]
        }
      ],
      "source": [
        "spark_df.select(\"trending_date\").show(2)"
      ]
    },
    {
      "cell_type": "code",
      "execution_count": 17,
      "id": "4bovaYHZ2GBQ",
      "metadata": {
        "id": "4bovaYHZ2GBQ"
      },
      "outputs": [],
      "source": [
        "# Convert date type of column trending_date to datetime data type\n",
        "spark_df = spark_df.withColumn(\"trending_date\", to_timestamp(\"trending_date\"))"
      ]
    },
    {
      "cell_type": "code",
      "execution_count": 18,
      "id": "xlQ7QkYJ2GEA",
      "metadata": {
        "id": "xlQ7QkYJ2GEA"
      },
      "outputs": [],
      "source": [
        "# Convert date type of column view_count to integer data type\n",
        "spark_df = spark_df.withColumn(\"view_count\", spark_df[\"view_count\"].cast(IntegerType()))"
      ]
    },
    {
      "cell_type": "code",
      "execution_count": 19,
      "id": "Inflh60t2GGj",
      "metadata": {
        "id": "Inflh60t2GGj"
      },
      "outputs": [],
      "source": [
        "# Convert date type of column likes to integer data type\n",
        "spark_df = spark_df.withColumn(\"likes\", spark_df[\"likes\"].cast(IntegerType()))"
      ]
    },
    {
      "cell_type": "code",
      "execution_count": 20,
      "id": "jxJWX5ox2GLU",
      "metadata": {
        "id": "jxJWX5ox2GLU"
      },
      "outputs": [],
      "source": [
        "# Convert date type of column dislikes to integer data type\n",
        "spark_df = spark_df.withColumn(\"dislikes\", spark_df[\"dislikes\"].cast(IntegerType()))"
      ]
    },
    {
      "cell_type": "code",
      "execution_count": 21,
      "id": "ZcSxAoyQ3ZTo",
      "metadata": {
        "id": "ZcSxAoyQ3ZTo"
      },
      "outputs": [],
      "source": [
        "# Convert date type of column comment_count to integer data type\n",
        "spark_df = spark_df.withColumn(\"comment_count\", spark_df[\"comment_count\"].cast(IntegerType()))"
      ]
    },
    {
      "cell_type": "code",
      "execution_count": 22,
      "id": "sR2x4HY83ZWz",
      "metadata": {
        "id": "sR2x4HY83ZWz"
      },
      "outputs": [],
      "source": [
        "# thumbnail_link replace from default to maxresdefault\n",
        "link_convert = udf(replace_str, StringType())\n",
        "spark_df = spark_df.withColumn(\"thumbnail_link\", link_convert(spark_df[\"thumbnail_link\"]))"
      ]
    },
    {
      "cell_type": "code",
      "execution_count": 27,
      "id": "m8REaetN3ZZU",
      "metadata": {
        "colab": {
          "base_uri": "https://localhost:8080/",
          "height": 36
        },
        "id": "m8REaetN3ZZU",
        "outputId": "893811ff-3c5a-410a-ea90-96d637af1ba2"
      },
      "outputs": [
        {
          "data": {
            "application/vnd.google.colaboratory.intrinsic+json": {
              "type": "string"
            },
            "text/plain": [
              "'https://i.ytimg.com/vi/EfP1h_3u0Lk/maxresdefault.jpg'"
            ]
          },
          "execution_count": 27,
          "metadata": {},
          "output_type": "execute_result"
        }
      ],
      "source": [
        "spark_df.select(\"thumbnail_link\").collect()[17][0]"
      ]
    },
    {
      "cell_type": "code",
      "execution_count": 28,
      "id": "PlOr7qhb3Zbh",
      "metadata": {
        "colab": {
          "base_uri": "https://localhost:8080/"
        },
        "id": "PlOr7qhb3Zbh",
        "outputId": "f49d0243-e8c7-4d80-eca1-154313a60f3f"
      },
      "outputs": [
        {
          "name": "stdout",
          "output_type": "stream",
          "text": [
            "root\n",
            " |-- video_id: string (nullable = true)\n",
            " |-- title: string (nullable = true)\n",
            " |-- publishedAt: timestamp (nullable = true)\n",
            " |-- channelId: string (nullable = true)\n",
            " |-- channelTitle: string (nullable = true)\n",
            " |-- categoryId: integer (nullable = true)\n",
            " |-- trending_date: timestamp (nullable = true)\n",
            " |-- tags: string (nullable = true)\n",
            " |-- view_count: integer (nullable = true)\n",
            " |-- likes: integer (nullable = true)\n",
            " |-- dislikes: integer (nullable = true)\n",
            " |-- comment_count: integer (nullable = true)\n",
            " |-- thumbnail_link: string (nullable = true)\n",
            " |-- comments_disabled: string (nullable = true)\n",
            " |-- ratings_disabled: string (nullable = true)\n",
            "\n"
          ]
        }
      ],
      "source": [
        "# Check\n",
        "spark_df.printSchema()"
      ]
    },
    {
      "cell_type": "code",
      "execution_count": null,
      "id": "0npxdqo03Zdr",
      "metadata": {
        "id": "0npxdqo03Zdr"
      },
      "outputs": [],
      "source": []
    },
    {
      "cell_type": "code",
      "execution_count": null,
      "id": "vJWbPWHg3ZgW",
      "metadata": {
        "id": "vJWbPWHg3ZgW"
      },
      "outputs": [],
      "source": []
    },
    {
      "cell_type": "code",
      "execution_count": null,
      "id": "lrfACvfa2GO2",
      "metadata": {
        "id": "lrfACvfa2GO2"
      },
      "outputs": [],
      "source": []
    },
    {
      "cell_type": "code",
      "execution_count": null,
      "id": "oMo9Hmry2GXW",
      "metadata": {
        "id": "oMo9Hmry2GXW"
      },
      "outputs": [],
      "source": []
    },
    {
      "cell_type": "code",
      "execution_count": null,
      "id": "bb609589-83c8-45c5-b4ce-371458647e8c",
      "metadata": {
        "id": "bb609589-83c8-45c5-b4ce-371458647e8c"
      },
      "outputs": [],
      "source": [
        "from pyspark.sql.functions import *\n",
        "from pyspark.sql import SparkSession\n",
        "from pyspark.sql.functions import round\n",
        "from pyspark.ml.feature import StringIndexer, OneHotEncoder, VectorAssembler, Bucketizer\n",
        "from pyspark.ml.regression import LinearRegression"
      ]
    },
    {
      "cell_type": "code",
      "execution_count": null,
      "id": "c9fe1d06-d632-401b-b98b-c59d1198685b",
      "metadata": {
        "id": "c9fe1d06-d632-401b-b98b-c59d1198685b"
      },
      "outputs": [],
      "source": [
        "import seaborn as sns\n",
        "import matplotlib.pyplot as plt\n",
        "\n",
        "%matplotlib inline\n",
        "import warnings\n",
        "warnings.filterwarnings('ignore')"
      ]
    },
    {
      "cell_type": "markdown",
      "id": "c1271c1f",
      "metadata": {
        "id": "c1271c1f"
      },
      "source": [
        "# Read Data"
      ]
    },
    {
      "cell_type": "code",
      "execution_count": null,
      "id": "801e7626",
      "metadata": {
        "id": "801e7626"
      },
      "outputs": [],
      "source": [
        "# Read data from CSV file\n",
        "df = spark.read.csv('/content/drive/MyDrive/Colab Notebooks/properties_2016.csv', sep=',', header=True, inferSchema=True, nullValue='NA')"
      ]
    },
    {
      "cell_type": "code",
      "execution_count": null,
      "id": "968d018d",
      "metadata": {
        "colab": {
          "base_uri": "https://localhost:8080/"
        },
        "id": "968d018d",
        "outputId": "c0050aba-eb23-482d-b4d9-ad85826b8ddf"
      },
      "outputs": [
        {
          "name": "stdout",
          "output_type": "stream",
          "text": [
            "Dataset have 2985217 records\n"
          ]
        }
      ],
      "source": [
        "# Get number of records\n",
        "print(f\"Dataset have {df.count()} records\")"
      ]
    },
    {
      "cell_type": "code",
      "execution_count": null,
      "id": "ea7b3db3-8682-4bac-a2ec-cd0324cb19cd",
      "metadata": {
        "colab": {
          "base_uri": "https://localhost:8080/"
        },
        "id": "ea7b3db3-8682-4bac-a2ec-cd0324cb19cd",
        "outputId": "c71a1c3a-6004-4e52-9cbd-b05ed8b71e61"
      },
      "outputs": [
        {
          "name": "stdout",
          "output_type": "stream",
          "text": [
            "column: 58\n",
            "row: 2985217\n"
          ]
        }
      ],
      "source": [
        "# Get Shape dataset\n",
        "print(f\"column: {len(df.columns)}\\nrow: {df.count()}\")"
      ]
    },
    {
      "cell_type": "code",
      "execution_count": null,
      "id": "7ec68403",
      "metadata": {
        "colab": {
          "base_uri": "https://localhost:8080/"
        },
        "id": "7ec68403",
        "outputId": "e729d51d-deed-49b5-da2c-cfe3701d5f53"
      },
      "outputs": [
        {
          "name": "stdout",
          "output_type": "stream",
          "text": [
            "+--------+---------------------+------------------------+------------+-----------+----------+-------------------+---------------------+-----------------+----------+------------------------+----------------------------+--------------------+--------------------+--------------------+--------------------+-------------------+----+------------+-----------+------------+---------------+--------------+---------------------+--------+----------+-----------------+-------+-----------+------------+-----------+-----------+-------------------------+---------------------+------------------+----------------------+------------+--------------+--------------------+-----------+-------+-----------+-------------------+----------------------+-------+------------------+------------------+---------+---------------+-------------+--------------------------+-----------------+--------------+---------------------+---------+------------------+------------------+-------------------+\n",
            "|parcelid|airconditioningtypeid|architecturalstyletypeid|basementsqft|bathroomcnt|bedroomcnt|buildingclasstypeid|buildingqualitytypeid|calculatedbathnbr|decktypeid|finishedfloor1squarefeet|calculatedfinishedsquarefeet|finishedsquarefeet12|finishedsquarefeet13|finishedsquarefeet15|finishedsquarefeet50|finishedsquarefeet6|fips|fireplacecnt|fullbathcnt|garagecarcnt|garagetotalsqft|hashottuborspa|heatingorsystemtypeid|latitude| longitude|lotsizesquarefeet|poolcnt|poolsizesum|pooltypeid10|pooltypeid2|pooltypeid7|propertycountylandusecode|propertylandusetypeid|propertyzoningdesc|rawcensustractandblock|regionidcity|regionidcounty|regionidneighborhood|regionidzip|roomcnt|storytypeid|threequarterbathnbr|typeconstructiontypeid|unitcnt|yardbuildingsqft17|yardbuildingsqft26|yearbuilt|numberofstories|fireplaceflag|structuretaxvaluedollarcnt|taxvaluedollarcnt|assessmentyear|landtaxvaluedollarcnt|taxamount|taxdelinquencyflag|taxdelinquencyyear|censustractandblock|\n",
            "+--------+---------------------+------------------------+------------+-----------+----------+-------------------+---------------------+-----------------+----------+------------------------+----------------------------+--------------------+--------------------+--------------------+--------------------+-------------------+----+------------+-----------+------------+---------------+--------------+---------------------+--------+----------+-----------------+-------+-----------+------------+-----------+-----------+-------------------------+---------------------+------------------+----------------------+------------+--------------+--------------------+-----------+-------+-----------+-------------------+----------------------+-------+------------------+------------------+---------+---------------+-------------+--------------------------+-----------------+--------------+---------------------+---------+------------------+------------------+-------------------+\n",
            "|10754147|                 NULL|                    NULL|        NULL|        0.0|       0.0|               NULL|                 NULL|             NULL|      NULL|                    NULL|                        NULL|                NULL|                NULL|                NULL|                NULL|               NULL|6037|        NULL|       NULL|        NULL|           NULL|          NULL|                 NULL|34144442|-118654084|          85768.0|   NULL|       NULL|        NULL|       NULL|       NULL|                     010D|                  269|              NULL|        6.0378002041E7|       37688|          3101|                NULL|      96337|    0.0|       NULL|               NULL|                  NULL|   NULL|              NULL|              NULL|     NULL|           NULL|         NULL|                      NULL|              9.0|          2015|                  9.0|     NULL|              NULL|              NULL|               NULL|\n",
            "|10759547|                 NULL|                    NULL|        NULL|        0.0|       0.0|               NULL|                 NULL|             NULL|      NULL|                    NULL|                        NULL|                NULL|                NULL|                NULL|                NULL|               NULL|6037|        NULL|       NULL|        NULL|           NULL|          NULL|                 NULL|34140430|-118625364|           4083.0|   NULL|       NULL|        NULL|       NULL|       NULL|                     0109|                  261|            LCA11*|     6.0378001011002E7|       37688|          3101|                NULL|      96337|    0.0|       NULL|               NULL|                  NULL|   NULL|              NULL|              NULL|     NULL|           NULL|         NULL|                      NULL|          27516.0|          2015|              27516.0|     NULL|              NULL|              NULL|               NULL|\n",
            "|10843547|                 NULL|                    NULL|        NULL|        0.0|       0.0|               NULL|                 NULL|             NULL|      NULL|                    NULL|                     73026.0|                NULL|                NULL|               73026|                NULL|               NULL|6037|        NULL|       NULL|        NULL|           NULL|          NULL|                 NULL|33989359|-118394633|          63085.0|   NULL|       NULL|        NULL|       NULL|       NULL|                     1200|                   47|              LAC2|     6.0377030012017E7|       51617|          3101|                NULL|      96095|    0.0|       NULL|               NULL|                  NULL|      2|              NULL|              NULL|     NULL|           NULL|         NULL|                  650756.0|        1413387.0|          2015|             762631.0| 20800.37|              NULL|              NULL|               NULL|\n",
            "|10859147|                 NULL|                    NULL|        NULL|        0.0|       0.0|                  3|                    7|             NULL|      NULL|                    NULL|                      5068.0|                NULL|                NULL|                5068|                NULL|               NULL|6037|        NULL|       NULL|        NULL|           NULL|          NULL|                 NULL|34148863|-118437206|           7521.0|   NULL|       NULL|        NULL|       NULL|       NULL|                     1200|                   47|              LAC2|     6.0371412023001E7|       12447|          3101|               27080|      96424|    0.0|       NULL|               NULL|                  NULL|   NULL|              NULL|              NULL|   1948.0|              1|         NULL|                  571346.0|        1156834.0|          2015|             585488.0| 14557.57|              NULL|              NULL|               NULL|\n",
            "|10879947|                 NULL|                    NULL|        NULL|        0.0|       0.0|                  4|                 NULL|             NULL|      NULL|                    NULL|                      1776.0|                NULL|                NULL|                1776|                NULL|               NULL|6037|        NULL|       NULL|        NULL|           NULL|          NULL|                 NULL|34194168|-118385816|           8512.0|   NULL|       NULL|        NULL|       NULL|       NULL|                     1210|                   31|              LAM1|     6.0371232052003E7|       12447|          3101|               46795|      96450|    0.0|       NULL|               NULL|                  NULL|      1|              NULL|              NULL|   1947.0|           NULL|         NULL|                  193796.0|         433491.0|          2015|             239695.0|  5725.17|              NULL|              NULL|               NULL|\n",
            "+--------+---------------------+------------------------+------------+-----------+----------+-------------------+---------------------+-----------------+----------+------------------------+----------------------------+--------------------+--------------------+--------------------+--------------------+-------------------+----+------------+-----------+------------+---------------+--------------+---------------------+--------+----------+-----------------+-------+-----------+------------+-----------+-----------+-------------------------+---------------------+------------------+----------------------+------------+--------------+--------------------+-----------+-------+-----------+-------------------+----------------------+-------+------------------+------------------+---------+---------------+-------------+--------------------------+-----------------+--------------+---------------------+---------+------------------+------------------+-------------------+\n",
            "only showing top 5 rows\n",
            "\n"
          ]
        }
      ],
      "source": [
        "# View five records data\n",
        "df.show(5)"
      ]
    },
    {
      "cell_type": "code",
      "execution_count": null,
      "id": "32d76054",
      "metadata": {
        "colab": {
          "base_uri": "https://localhost:8080/"
        },
        "id": "32d76054",
        "outputId": "cf3b6c89-2ef3-47b6-f4e3-a50eb579ae5d"
      },
      "outputs": [
        {
          "name": "stdout",
          "output_type": "stream",
          "text": [
            "root\n",
            " |-- parcelid: integer (nullable = true)\n",
            " |-- airconditioningtypeid: integer (nullable = true)\n",
            " |-- architecturalstyletypeid: integer (nullable = true)\n",
            " |-- basementsqft: integer (nullable = true)\n",
            " |-- bathroomcnt: double (nullable = true)\n",
            " |-- bedroomcnt: double (nullable = true)\n",
            " |-- buildingclasstypeid: integer (nullable = true)\n",
            " |-- buildingqualitytypeid: integer (nullable = true)\n",
            " |-- calculatedbathnbr: double (nullable = true)\n",
            " |-- decktypeid: integer (nullable = true)\n",
            " |-- finishedfloor1squarefeet: integer (nullable = true)\n",
            " |-- calculatedfinishedsquarefeet: double (nullable = true)\n",
            " |-- finishedsquarefeet12: integer (nullable = true)\n",
            " |-- finishedsquarefeet13: integer (nullable = true)\n",
            " |-- finishedsquarefeet15: integer (nullable = true)\n",
            " |-- finishedsquarefeet50: integer (nullable = true)\n",
            " |-- finishedsquarefeet6: integer (nullable = true)\n",
            " |-- fips: integer (nullable = true)\n",
            " |-- fireplacecnt: integer (nullable = true)\n",
            " |-- fullbathcnt: integer (nullable = true)\n",
            " |-- garagecarcnt: integer (nullable = true)\n",
            " |-- garagetotalsqft: integer (nullable = true)\n",
            " |-- hashottuborspa: boolean (nullable = true)\n",
            " |-- heatingorsystemtypeid: integer (nullable = true)\n",
            " |-- latitude: integer (nullable = true)\n",
            " |-- longitude: integer (nullable = true)\n",
            " |-- lotsizesquarefeet: double (nullable = true)\n",
            " |-- poolcnt: integer (nullable = true)\n",
            " |-- poolsizesum: integer (nullable = true)\n",
            " |-- pooltypeid10: integer (nullable = true)\n",
            " |-- pooltypeid2: integer (nullable = true)\n",
            " |-- pooltypeid7: integer (nullable = true)\n",
            " |-- propertycountylandusecode: string (nullable = true)\n",
            " |-- propertylandusetypeid: integer (nullable = true)\n",
            " |-- propertyzoningdesc: string (nullable = true)\n",
            " |-- rawcensustractandblock: double (nullable = true)\n",
            " |-- regionidcity: integer (nullable = true)\n",
            " |-- regionidcounty: integer (nullable = true)\n",
            " |-- regionidneighborhood: integer (nullable = true)\n",
            " |-- regionidzip: integer (nullable = true)\n",
            " |-- roomcnt: double (nullable = true)\n",
            " |-- storytypeid: integer (nullable = true)\n",
            " |-- threequarterbathnbr: integer (nullable = true)\n",
            " |-- typeconstructiontypeid: integer (nullable = true)\n",
            " |-- unitcnt: integer (nullable = true)\n",
            " |-- yardbuildingsqft17: integer (nullable = true)\n",
            " |-- yardbuildingsqft26: integer (nullable = true)\n",
            " |-- yearbuilt: double (nullable = true)\n",
            " |-- numberofstories: integer (nullable = true)\n",
            " |-- fireplaceflag: boolean (nullable = true)\n",
            " |-- structuretaxvaluedollarcnt: double (nullable = true)\n",
            " |-- taxvaluedollarcnt: double (nullable = true)\n",
            " |-- assessmentyear: integer (nullable = true)\n",
            " |-- landtaxvaluedollarcnt: double (nullable = true)\n",
            " |-- taxamount: double (nullable = true)\n",
            " |-- taxdelinquencyflag: string (nullable = true)\n",
            " |-- taxdelinquencyyear: integer (nullable = true)\n",
            " |-- censustractandblock: long (nullable = true)\n",
            "\n"
          ]
        }
      ],
      "source": [
        "df.printSchema()"
      ]
    },
    {
      "cell_type": "code",
      "execution_count": null,
      "id": "65634354",
      "metadata": {
        "colab": {
          "base_uri": "https://localhost:8080/"
        },
        "id": "65634354",
        "outputId": "5ad24bc2-fef7-4898-bcd0-f401ec43b6c3"
      },
      "outputs": [
        {
          "name": "stdout",
          "output_type": "stream",
          "text": [
            "+-------+--------------------+---------------------+------------------------+-----------------+------------------+------------------+-------------------+---------------------+------------------+----------+------------------------+----------------------------+--------------------+--------------------+--------------------+--------------------+-------------------+------------------+-------------------+------------------+------------------+------------------+---------------------+-------------------+--------------------+------------------+-------+------------------+------------+-----------+-----------+-------------------------+---------------------+--------------------+----------------------+-----------------+------------------+--------------------+-----------------+------------------+-----------+-------------------+----------------------+------------------+------------------+------------------+------------------+------------------+--------------------------+------------------+-------------------+---------------------+-----------------+------------------+------------------+--------------------+\n",
            "|summary|            parcelid|airconditioningtypeid|architecturalstyletypeid|     basementsqft|       bathroomcnt|        bedroomcnt|buildingclasstypeid|buildingqualitytypeid| calculatedbathnbr|decktypeid|finishedfloor1squarefeet|calculatedfinishedsquarefeet|finishedsquarefeet12|finishedsquarefeet13|finishedsquarefeet15|finishedsquarefeet50|finishedsquarefeet6|              fips|       fireplacecnt|       fullbathcnt|      garagecarcnt|   garagetotalsqft|heatingorsystemtypeid|           latitude|           longitude| lotsizesquarefeet|poolcnt|       poolsizesum|pooltypeid10|pooltypeid2|pooltypeid7|propertycountylandusecode|propertylandusetypeid|  propertyzoningdesc|rawcensustractandblock|     regionidcity|    regionidcounty|regionidneighborhood|      regionidzip|           roomcnt|storytypeid|threequarterbathnbr|typeconstructiontypeid|           unitcnt|yardbuildingsqft17|yardbuildingsqft26|         yearbuilt|   numberofstories|structuretaxvaluedollarcnt| taxvaluedollarcnt|     assessmentyear|landtaxvaluedollarcnt|        taxamount|taxdelinquencyflag|taxdelinquencyyear| censustractandblock|\n",
            "+-------+--------------------+---------------------+------------------------+-----------------+------------------+------------------+-------------------+---------------------+------------------+----------+------------------------+----------------------------+--------------------+--------------------+--------------------+--------------------+-------------------+------------------+-------------------+------------------+------------------+------------------+---------------------+-------------------+--------------------+------------------+-------+------------------+------------+-----------+-----------+-------------------------+---------------------+--------------------+----------------------+-----------------+------------------+--------------------+-----------------+------------------+-----------+-------------------+----------------------+------------------+------------------+------------------+------------------+------------------+--------------------------+------------------+-------------------+---------------------+-----------------+------------------+------------------+--------------------+\n",
            "|  count|             2985217|               811519|                    6061|             1628|           2973755|           2973767|              12629|              1938488|           2856305|     17096|                  202717|                     2929652|             2709184|                7672|              190798|              202717|              22001|           2973780|             312637|           2856305|            883267|            883267|              1806401|            2973780|             2973780|           2709118| 517534|             27960|       36939|      32075|     485459|                  2972940|              2973780|             1978629|               2973780|          2922372|           2973780|             1156402|          2971237|           2973742|       1624|             311631|                  6747|           1977490|             80355|              2647|           2925289|            682069|                   2930235|           2942667|            2973778|              2917484|          2953967|             56462|             56464|             2910091|\n",
            "|   mean|1.3325858360229759E7|   1.9311661218036793|       7.202606830556014|646.8832923832924|2.2091427336818263| 3.088948797938776| 3.7259482144271123|    5.784786906083505|2.2992625087306853|      66.0|      1380.6303960693972|          1827.1621236925068|  1760.0006079321302|   1178.900677789364|    2739.18723466703|  1388.9445779091047|  2414.339439116404| 6048.031600185623| 1.1687100375195514|2.2441651014159905|1.8235165584132544| 383.7693573970272|    4.012053248420478|3.400146865372119E7|-1.18201934159426...|22822.805527748147|    1.0| 519.7109799713877|         1.0|        1.0|        1.0|        199.5320980966015|    260.0484285992911|  5.46084705882353E8|   6.048344961635102E7|34993.35022406456|2570.4605535715486|   193476.4074145496|96552.67280025121|1.4750183438912992|        7.0| 1.0100086320038764|     5.999555357936861| 1.181171080511153| 319.8033974239313| 278.2965621458255|1964.2616411575061|1.4014637815235702|        170883.57716599523|420478.99067852396|  2014.999458937419|   252478.02946854208|5377.607139338332|              NULL|13.892409322754322|6.048431221257243E13|\n",
            "| stddev|   7909966.389233432|    3.148587394577264|       2.436290490710878|538.7934732127098|1.0777537772255268|1.2758587961101613| 0.5017002111297728|   1.8053515795599582|1.0007362395982085|       0.0|       632.8685428862445|          1819.7804693000555|   971.0610103785792|  357.07303551809184|   5447.428327204328|   664.4887085429802|  7695.302951762993|20.232784692561076|0.46127285457915057|0.9912053996708714|0.6100353832595409|245.44341897378612|    3.293732688713869| 243381.17831128882|  345317.10127200687|  337592.366407657|    0.0|191.32328381052514|         0.0|        0.0|        0.0|         302.825330209084|   15.908166600884176|2.0614819081932812E9|     200811.6754489488| 50727.4653888151|  788.071140066596|  165713.25431675857|3673.175037540778| 2.840402806614331|        0.0|0.11770930082463944|   0.38405027536042613|2.4478959553912745|233.08631396807013| 369.7315077596207|23.441319348584372|0.5390757507737586|         402068.3420150093| 726346.6517993591|0.03683161097766099|   445013.16961781326|9183.107127994226|              NULL|2.5810057224984697|3.249034547374049E11|\n",
            "|    min|            10711725|                    1|                       2|               20|               0.0|               0.0|                  1|                    1|               1.0|        66|                       3|                         1.0|                   1|                 120|                 112|                   3|                117|              6037|                  1|                 1|                 0|                 0|                    1|           33324388|          -119475780|             100.0|      1|                19|           1|          1|          1|                        0|                   31|                 #12|        6.0371011101E7|             3491|              1286|                6952|            95982|               0.0|          7|                  1|                     4|                 1|                10|                10|            1801.0|                 1|                       1.0|               1.0|               2000|                  1.0|             1.34|                 Y|                 0|                  -1|\n",
            "|    max|           169601949|                   13|                      27|             8516|              20.0|              20.0|                  5|                   12|              20.0|        66|                   31303|                    952576.0|              290345|                2688|              820242|               31303|             952576|              6111|                  9|                20|                25|              7749|                   24|           34819650|          -117554316|      3.28263808E8|      1|             17410|           1|          1|          1|                      SFR|                  275|           ZONE LCC3|     6.1110091003011E7|           396556|              3101|              764167|           399675|              96.0|          7|                  7|                    13|               997|              7983|              6141|            2015.0|                41|                 2.51486E8|         2.82786E8|               2016|          9.0246219E7|       3458861.12|                 Y|                99|     483030105084015|\n",
            "+-------+--------------------+---------------------+------------------------+-----------------+------------------+------------------+-------------------+---------------------+------------------+----------+------------------------+----------------------------+--------------------+--------------------+--------------------+--------------------+-------------------+------------------+-------------------+------------------+------------------+------------------+---------------------+-------------------+--------------------+------------------+-------+------------------+------------+-----------+-----------+-------------------------+---------------------+--------------------+----------------------+-----------------+------------------+--------------------+-----------------+------------------+-----------+-------------------+----------------------+------------------+------------------+------------------+------------------+------------------+--------------------------+------------------+-------------------+---------------------+-----------------+------------------+------------------+--------------------+\n",
            "\n"
          ]
        }
      ],
      "source": [
        "df.describe().show()"
      ]
    },
    {
      "cell_type": "markdown",
      "id": "e7f4d289",
      "metadata": {
        "id": "e7f4d289"
      },
      "source": [
        "# Clean Data"
      ]
    },
    {
      "cell_type": "code",
      "execution_count": null,
      "id": "eddda1f7",
      "metadata": {
        "id": "eddda1f7"
      },
      "outputs": [],
      "source": [
        "# Drop duplicates\n",
        "df = df.dropDuplicates()"
      ]
    },
    {
      "cell_type": "code",
      "execution_count": null,
      "id": "2d651e5b",
      "metadata": {
        "colab": {
          "base_uri": "https://localhost:8080/"
        },
        "id": "2d651e5b",
        "outputId": "c59bf422-2e51-410e-fa39-b18c726e4e46"
      },
      "outputs": [
        {
          "name": "stdout",
          "output_type": "stream",
          "text": [
            "+--------+---------------------+------------------------+------------+-----------+----------+-------------------+---------------------+-----------------+----------+------------------------+----------------------------+--------------------+--------------------+--------------------+--------------------+-------------------+-----+------------+-----------+------------+---------------+--------------+---------------------+--------+---------+-----------------+-------+-----------+------------+-----------+-----------+-------------------------+---------------------+------------------+----------------------+------------+--------------+--------------------+-----------+-------+-----------+-------------------+----------------------+-------+------------------+------------------+---------+---------------+-------------+--------------------------+-----------------+--------------+---------------------+---------+------------------+------------------+-------------------+\n",
            "|parcelid|airconditioningtypeid|architecturalstyletypeid|basementsqft|bathroomcnt|bedroomcnt|buildingclasstypeid|buildingqualitytypeid|calculatedbathnbr|decktypeid|finishedfloor1squarefeet|calculatedfinishedsquarefeet|finishedsquarefeet12|finishedsquarefeet13|finishedsquarefeet15|finishedsquarefeet50|finishedsquarefeet6| fips|fireplacecnt|fullbathcnt|garagecarcnt|garagetotalsqft|hashottuborspa|heatingorsystemtypeid|latitude|longitude|lotsizesquarefeet|poolcnt|poolsizesum|pooltypeid10|pooltypeid2|pooltypeid7|propertycountylandusecode|propertylandusetypeid|propertyzoningdesc|rawcensustractandblock|regionidcity|regionidcounty|regionidneighborhood|regionidzip|roomcnt|storytypeid|threequarterbathnbr|typeconstructiontypeid|unitcnt|yardbuildingsqft17|yardbuildingsqft26|yearbuilt|numberofstories|fireplaceflag|structuretaxvaluedollarcnt|taxvaluedollarcnt|assessmentyear|landtaxvaluedollarcnt|taxamount|taxdelinquencyflag|taxdelinquencyyear|censustractandblock|\n",
            "+--------+---------------------+------------------------+------------+-----------+----------+-------------------+---------------------+-----------------+----------+------------------------+----------------------------+--------------------+--------------------+--------------------+--------------------+-------------------+-----+------------+-----------+------------+---------------+--------------+---------------------+--------+---------+-----------------+-------+-----------+------------+-----------+-----------+-------------------------+---------------------+------------------+----------------------+------------+--------------+--------------------+-----------+-------+-----------+-------------------+----------------------+-------+------------------+------------------+---------+---------------+-------------+--------------------------+-----------------+--------------+---------------------+---------+------------------+------------------+-------------------+\n",
            "|       0|              2173698|                 2979156|     2983589|      11462|     11450|            2972588|              1046729|           128912|   2968121|                 2782500|                       55565|              276033|             2977545|             2794419|             2782500|            2963216|11437|     2672580|     128912|     2101950|        2101950|       2916203|              1178816|   11437|    11437|           276099|2467683|    2957257|     2948278|    2953142|    2499758|                    12277|                11437|           1006588|                 11437|       62845|         11437|             1828815|      13980|  11475|    2983593|            2673586|               2978470|1007727|           2904862|           2982570|    59928|        2303148|      2980054|                     54982|            42550|         11439|                67733|    31250|           2928755|           2928753|              75126|\n",
            "+--------+---------------------+------------------------+------------+-----------+----------+-------------------+---------------------+-----------------+----------+------------------------+----------------------------+--------------------+--------------------+--------------------+--------------------+-------------------+-----+------------+-----------+------------+---------------+--------------+---------------------+--------+---------+-----------------+-------+-----------+------------+-----------+-----------+-------------------------+---------------------+------------------+----------------------+------------+--------------+--------------------+-----------+-------+-----------+-------------------+----------------------+-------+------------------+------------------+---------+---------------+-------------+--------------------------+-----------------+--------------+---------------------+---------+------------------+------------------+-------------------+\n",
            "\n"
          ]
        }
      ],
      "source": [
        "# Get the missing value of each column\n",
        "null_counts = df.select([sum(col(column).isNull().cast(\"int\")).alias(column) for column in df.columns])\n",
        "null_counts.show()"
      ]
    },
    {
      "cell_type": "code",
      "execution_count": null,
      "id": "c158a9c4-c639-47f5-9e29-6ac483daced6",
      "metadata": {
        "id": "c158a9c4-c639-47f5-9e29-6ac483daced6"
      },
      "outputs": [],
      "source": [
        "# Visualize missing value on each column\n",
        "pandas_df = df.toPandas()\n",
        "missing_count = pandas_df.isna().sum()\n",
        "sns.barplot(x=missing_count.index, y=missing_count.values)\n",
        "plt.title('Numbers Missing Value on each column')\n",
        "plt.xlabel('Column')\n",
        "plt.ylabel('Numbers Missing')\n",
        "plt.show()"
      ]
    },
    {
      "cell_type": "code",
      "execution_count": null,
      "id": "4b1b542f",
      "metadata": {
        "colab": {
          "background_save": true
        },
        "id": "4b1b542f"
      },
      "outputs": [],
      "source": [
        "# Drop columns that are more than 60% missing\n",
        "def column_dropper(df, threshold):\n",
        "    total_records = df.count()\n",
        "    for col in df.columns:\n",
        "        missing = df.filter(df[col].isNull()).count()\n",
        "        missing_percent = missing / total_records\n",
        "        if missing_percent > threshold:\n",
        "            df = df.drop(col)\n",
        "    return df\n",
        "\n",
        "df = column_dropper(df, 0.6)"
      ]
    },
    {
      "cell_type": "code",
      "execution_count": null,
      "id": "41bd87bb",
      "metadata": {
        "colab": {
          "base_uri": "https://localhost:8080/"
        },
        "id": "41bd87bb",
        "outputId": "ea48b121-fe86-4c50-cc77-c284beaec8c7"
      },
      "outputs": [
        {
          "name": "stdout",
          "output_type": "stream",
          "text": [
            "+--------+---------------------+------------------------+------------+-----------+----------+-------------------+---------------------+-----------------+----------+------------------------+----------------------------+--------------------+--------------------+--------------------+--------------------+-------------------+-----+------------+-----------+------------+---------------+--------------+---------------------+--------+---------+-----------------+-------+-----------+------------+-----------+-----------+-------------------------+---------------------+------------------+----------------------+------------+--------------+--------------------+-----------+-------+-----------+-------------------+----------------------+-------+------------------+------------------+---------+---------------+-------------+--------------------------+-----------------+--------------+---------------------+---------+------------------+------------------+-------------------+\n",
            "|parcelid|airconditioningtypeid|architecturalstyletypeid|basementsqft|bathroomcnt|bedroomcnt|buildingclasstypeid|buildingqualitytypeid|calculatedbathnbr|decktypeid|finishedfloor1squarefeet|calculatedfinishedsquarefeet|finishedsquarefeet12|finishedsquarefeet13|finishedsquarefeet15|finishedsquarefeet50|finishedsquarefeet6| fips|fireplacecnt|fullbathcnt|garagecarcnt|garagetotalsqft|hashottuborspa|heatingorsystemtypeid|latitude|longitude|lotsizesquarefeet|poolcnt|poolsizesum|pooltypeid10|pooltypeid2|pooltypeid7|propertycountylandusecode|propertylandusetypeid|propertyzoningdesc|rawcensustractandblock|regionidcity|regionidcounty|regionidneighborhood|regionidzip|roomcnt|storytypeid|threequarterbathnbr|typeconstructiontypeid|unitcnt|yardbuildingsqft17|yardbuildingsqft26|yearbuilt|numberofstories|fireplaceflag|structuretaxvaluedollarcnt|taxvaluedollarcnt|assessmentyear|landtaxvaluedollarcnt|taxamount|taxdelinquencyflag|taxdelinquencyyear|censustractandblock|\n",
            "+--------+---------------------+------------------------+------------+-----------+----------+-------------------+---------------------+-----------------+----------+------------------------+----------------------------+--------------------+--------------------+--------------------+--------------------+-------------------+-----+------------+-----------+------------+---------------+--------------+---------------------+--------+---------+-----------------+-------+-----------+------------+-----------+-----------+-------------------------+---------------------+------------------+----------------------+------------+--------------+--------------------+-----------+-------+-----------+-------------------+----------------------+-------+------------------+------------------+---------+---------------+-------------+--------------------------+-----------------+--------------+---------------------+---------+------------------+------------------+-------------------+\n",
            "|       0|              2173698|                 2979156|     2983589|      11462|     11450|            2972588|              1046729|           128912|   2968121|                 2782500|                       55565|              276033|             2977545|             2794419|             2782500|            2963216|11437|     2672580|     128912|     2101950|        2101950|       2916203|              1178816|   11437|    11437|           276099|2467683|    2957257|     2948278|    2953142|    2499758|                    12277|                11437|           1006588|                 11437|       62845|         11437|             1828815|      13980|  11475|    2983593|            2673586|               2978470|1007727|           2904862|           2982570|    59928|        2303148|      2980054|                     54982|            42550|         11439|                67733|    31250|           2928755|           2928753|              75126|\n",
            "+--------+---------------------+------------------------+------------+-----------+----------+-------------------+---------------------+-----------------+----------+------------------------+----------------------------+--------------------+--------------------+--------------------+--------------------+-------------------+-----+------------+-----------+------------+---------------+--------------+---------------------+--------+---------+-----------------+-------+-----------+------------+-----------+-----------+-------------------------+---------------------+------------------+----------------------+------------+--------------+--------------------+-----------+-------+-----------+-------------------+----------------------+-------+------------------+------------------+---------+---------------+-------------+--------------------------+-----------------+--------------+---------------------+---------+------------------+------------------+-------------------+\n",
            "\n"
          ]
        }
      ],
      "source": [
        "# columns remaining after deletion\n",
        "null_counts = df.select([sum(col(column).isNull().cast(\"int\")).alias(column) for column in df.columns])\n",
        "null_counts.show()"
      ]
    },
    {
      "cell_type": "code",
      "execution_count": null,
      "id": "I_Mx_6U2MJ93",
      "metadata": {
        "id": "I_Mx_6U2MJ93"
      },
      "outputs": [],
      "source": [
        "df.show()"
      ]
    },
    {
      "cell_type": "code",
      "execution_count": null,
      "id": "KsG0VYVsUFAt",
      "metadata": {
        "id": "KsG0VYVsUFAt"
      },
      "outputs": [],
      "source": [
        "PARCELID: 0\n",
        "BATHROOMCNT: 11462\n",
        "BEDROOMCNT: 11450\n",
        "BUILDINGQUALITYTYPEID: 1046729\n",
        "CALCULATEDBATHNBR: 128912\n",
        "CALCULATEDFINISHEDSQUAREFEET: 55565\n",
        "FINISHEDSQUAREFEET12: 276033\n",
        "FIPS: 11437\n",
        "FULLBATHCNT: 128912\n",
        "HEATINGORSYSTEMTYPEID: 1178816\n",
        "LATITUDE: 11437\n",
        "LONGITUDE: 11437\n",
        "LOTSIZESQUAREFEET: 276099\n",
        "PROPERTYCOUNTYLANDUSECODE: 12277\n",
        "PROPERTYLANDUSETYPEID: 11437\n",
        "PROPERTYZONINGDESC: 1006588\n",
        "RAWCENSUSTRACTANDBLOCK: 11437\n",
        "REGIONIDCITY: 62845\n",
        "REGIONIDCOUNTY: 11437\n",
        "REGIONIDZIP: 13980\n",
        "ROOMCNT: 11475\n",
        "UNITCNT: 1007727\n",
        "YEARBUILT: 59928\n",
        "STRUCTURETAXVALUEDOLLARCNT: 54982\n",
        "TAXVALUEDOLLARCNT: 42550\n",
        "ASSESSMENTYEAR: 11439\n",
        "LANDTAXVALUEDOLLARCNT: 67733\n",
        "TAXAMOUNT: 31250\n",
        "CENSUSTRACTANDBLOCK: 75126"
      ]
    },
    {
      "cell_type": "code",
      "execution_count": null,
      "id": "f958f97a",
      "metadata": {
        "colab": {
          "base_uri": "https://localhost:8080/"
        },
        "id": "f958f97a",
        "outputId": "3abae1d5-c133-4199-c41c-065c365b9c9f"
      },
      "outputs": [
        {
          "data": {
            "text/plain": [
              "58"
            ]
          },
          "execution_count": 23,
          "metadata": {},
          "output_type": "execute_result"
        }
      ],
      "source": [
        "# Fill miss value\n",
        "values = {\n",
        "    'bathroomcnt': 'value1',\n",
        "    'bedroomcnt': 'value2',\n",
        "    'buildingqualitytypeid': \"\",\n",
        "    \"CALCULATEDBATHNBR\": 128912,\n",
        "    \"CALCULATEDFINISHEDSQUAREFEET\": 55565,\n",
        "    \"FINISHEDSQUAREFEET12\": 276033,\n",
        "    \"FIPS\": 11437,\n",
        "    \"FULLBATHCNT\": 128912,\n",
        "    \"HEATINGORSYSTEMTYPEID\": 1178816,\n",
        "    \"LATITUDE\": 11437,\n",
        "    \"LONGITUDE\": 11437,\n",
        "    \"LOTSIZESQUAREFEET\": 276099,\n",
        "    \"PROPERTYCOUNTYLANDUSECODE\": 12277,\n",
        "    \"PROPERTYLANDUSETYPEID\": 11437,\n",
        "    \"PROPERTYZONINGDESC\": 1006588,\n",
        "    \"RAWCENSUSTRACTANDBLOCK\": 11437,\n",
        "    \"REGIONIDCITY\": 62845,\n",
        "    \"REGIONIDCOUNTY\": 11437,\n",
        "    \"REGIONIDZIP\": 13980,\n",
        "    \"ROOMCNT\": 11475,\n",
        "    \"UNITCNT\": 1007727,\n",
        "    \"YEARBUILT\": 59928,\n",
        "    \"STRUCTURETAXVALUEDOLLARCNT\": 54982,\n",
        "    \"TAXVALUEDOLLARCNT\": 42550,\n",
        "    \"ASSESSMENTYEAR\": 11439,\n",
        "    \"LANDTAXVALUEDOLLARCNT\": 67733,\n",
        "    \"TAXAMOUNT\": 31250,\n",
        "    \"CENSUSTRACTANDBLOCK\": 75126\n",
        "}\n",
        "filled_df = df.fillna(values)"
      ]
    },
    {
      "cell_type": "code",
      "execution_count": null,
      "id": "OTkG-6cMOxEt",
      "metadata": {
        "id": "OTkG-6cMOxEt"
      },
      "outputs": [],
      "source": [
        "null_counts = df.select([sum(col(column).isNull().cast(\"int\")).alias(column) for column in df.columns])\n",
        "null_counts.show()"
      ]
    },
    {
      "cell_type": "markdown",
      "id": "dnypT2myKfsh",
      "metadata": {
        "id": "dnypT2myKfsh"
      },
      "source": [
        "# Feature Engineering"
      ]
    },
    {
      "cell_type": "code",
      "execution_count": null,
      "id": "3f5d77f7",
      "metadata": {
        "id": "3f5d77f7"
      },
      "outputs": [],
      "source": [
        "# One-hot encoding for 'bathroomcnt'\n",
        "encoder_bathroomcnt = OneHotEncoder(inputCols=['bathroomcnt'], outputCols=['bathroomcnt_dummy'])\n",
        "df = encoder_bathroomcnt.fit(df).transform(df)\n"
      ]
    },
    {
      "cell_type": "code",
      "execution_count": null,
      "id": "5c50d08f",
      "metadata": {
        "id": "5c50d08f"
      },
      "outputs": [],
      "source": [
        "# One-hot encoding for 'bedroomcnt'\n",
        "encoder_bedroomcnt = OneHotEncoder(inputCols=['bedroomcnt'], outputCols=['bedroomcnt_dummy'])\n",
        "df = encoder_bedroomcnt.fit(df).transform(df)"
      ]
    },
    {
      "cell_type": "code",
      "execution_count": null,
      "id": "Z2pj086_RJFl",
      "metadata": {
        "id": "Z2pj086_RJFl"
      },
      "outputs": [],
      "source": [
        "# Assemble features into a single vector column\n",
        "assembler = VectorAssembler(inputCols=['roomcnt', 'latitude', 'longitude', 'bathroomcnt_dummy', 'bedroomcnt_dummy'], outputCol='features')\n",
        "df = assembler.transform(df)"
      ]
    },
    {
      "cell_type": "markdown",
      "id": "ZScPc9wxREPs",
      "metadata": {
        "id": "ZScPc9wxREPs"
      },
      "source": [
        "# Build Linear Regression Model"
      ]
    },
    {
      "cell_type": "code",
      "execution_count": null,
      "id": "3ef37703",
      "metadata": {
        "id": "3ef37703"
      },
      "outputs": [],
      "source": [
        "# Split the data\n",
        "train_data, test_data = df.randomSplit([0.8, 0.2], seed=42)"
      ]
    },
    {
      "cell_type": "code",
      "execution_count": null,
      "id": "cadb50de",
      "metadata": {
        "id": "cadb50de"
      },
      "outputs": [],
      "source": [
        "# Build the model\n",
        "regression = LinearRegression(featuresCol='features', labelCol='duration')\n",
        "model = regression.fit(train_data)"
      ]
    },
    {
      "cell_type": "code",
      "execution_count": null,
      "id": "b56f0ff4",
      "metadata": {
        "id": "b56f0ff4"
      },
      "outputs": [],
      "source": [
        "# Make predictions\n",
        "predictions = model.transform(test_data)"
      ]
    },
    {
      "cell_type": "markdown",
      "id": "FeP14XfNRgzS",
      "metadata": {
        "id": "FeP14XfNRgzS"
      },
      "source": [
        "# Evaluate Model"
      ]
    },
    {
      "cell_type": "code",
      "execution_count": null,
      "id": "9e490664",
      "metadata": {
        "id": "9e490664"
      },
      "outputs": [],
      "source": [
        "# Evaluate the model\n",
        "evaluator = RegressionEvaluator(labelCol='duration', metricName='rmse')\n",
        "rmse = evaluator.evaluate(predictions)\n",
        "print(\"Root Mean Square Error (RMSE) on test data =\", rmse)\n",
        "\n",
        "# Print coefficients and intercept for interpretation\n",
        "print(\"Coefficients:\", model.coefficients)\n",
        "print(\"Intercept:\", model.intercept)"
      ]
    },
    {
      "cell_type": "code",
      "execution_count": null,
      "id": "c2f0476d",
      "metadata": {
        "id": "c2f0476d"
      },
      "outputs": [],
      "source": []
    },
    {
      "cell_type": "code",
      "execution_count": null,
      "id": "25938f77",
      "metadata": {
        "id": "25938f77"
      },
      "outputs": [],
      "source": []
    },
    {
      "cell_type": "code",
      "execution_count": null,
      "id": "a029e08d",
      "metadata": {
        "id": "a029e08d"
      },
      "outputs": [],
      "source": []
    },
    {
      "cell_type": "code",
      "execution_count": null,
      "id": "4a4ad2d6",
      "metadata": {
        "id": "4a4ad2d6"
      },
      "outputs": [],
      "source": []
    },
    {
      "cell_type": "code",
      "execution_count": null,
      "id": "31873dac",
      "metadata": {
        "id": "31873dac"
      },
      "outputs": [],
      "source": []
    },
    {
      "cell_type": "code",
      "execution_count": null,
      "id": "0d65e838",
      "metadata": {
        "id": "0d65e838"
      },
      "outputs": [],
      "source": []
    },
    {
      "cell_type": "code",
      "execution_count": null,
      "id": "041add92",
      "metadata": {
        "id": "041add92"
      },
      "outputs": [],
      "source": []
    },
    {
      "cell_type": "code",
      "execution_count": null,
      "id": "fa5fb063-3ed4-40bb-a566-f9eab2ca520e",
      "metadata": {
        "id": "fa5fb063-3ed4-40bb-a566-f9eab2ca520e"
      },
      "outputs": [],
      "source": []
    },
    {
      "cell_type": "code",
      "execution_count": null,
      "id": "8d651e75-dc8a-4bf4-ba9f-de4e27ddfa04",
      "metadata": {
        "id": "8d651e75-dc8a-4bf4-ba9f-de4e27ddfa04"
      },
      "outputs": [],
      "source": []
    },
    {
      "cell_type": "code",
      "execution_count": null,
      "id": "a4916a6a-f1e8-49c9-850d-f94639c337e7",
      "metadata": {
        "id": "a4916a6a-f1e8-49c9-850d-f94639c337e7"
      },
      "outputs": [],
      "source": []
    },
    {
      "cell_type": "code",
      "execution_count": null,
      "id": "cd1eb575-3b8b-49c2-943f-3f79a908d626",
      "metadata": {
        "id": "cd1eb575-3b8b-49c2-943f-3f79a908d626"
      },
      "outputs": [],
      "source": []
    },
    {
      "cell_type": "code",
      "execution_count": null,
      "id": "0907696c-cc0c-4d33-9707-89696752a4d1",
      "metadata": {
        "id": "0907696c-cc0c-4d33-9707-89696752a4d1"
      },
      "outputs": [],
      "source": []
    },
    {
      "cell_type": "code",
      "execution_count": null,
      "id": "29b355ad",
      "metadata": {
        "id": "29b355ad"
      },
      "outputs": [],
      "source": []
    },
    {
      "cell_type": "markdown",
      "id": "6d5349b1-4b09-4ace-9b02-a6eed61843bd",
      "metadata": {
        "id": "6d5349b1-4b09-4ace-9b02-a6eed61843bd"
      },
      "source": [
        "# Pre-Processing Data"
      ]
    },
    {
      "cell_type": "markdown",
      "id": "8788823a-5c40-481c-8dea-97ce436899bc",
      "metadata": {
        "id": "8788823a-5c40-481c-8dea-97ce436899bc"
      },
      "source": [
        "### 1. Check Data"
      ]
    },
    {
      "cell_type": "code",
      "execution_count": null,
      "id": "7c962808-b082-48cd-8b04-11b8d821f32c",
      "metadata": {
        "id": "7c962808-b082-48cd-8b04-11b8d821f32c"
      },
      "outputs": [],
      "source": [
        "df = spark.read.csv(\"properties_2016.csv\", header=True, inferSchema=True)"
      ]
    },
    {
      "cell_type": "code",
      "execution_count": null,
      "id": "bd61df3c-936d-4edf-8cc4-0d7012bee2ce",
      "metadata": {
        "id": "bd61df3c-936d-4edf-8cc4-0d7012bee2ce"
      },
      "outputs": [],
      "source": [
        "df.limit(10)"
      ]
    },
    {
      "cell_type": "code",
      "execution_count": null,
      "id": "1578e940-ec6f-4867-a345-bc1c9d144727",
      "metadata": {
        "id": "1578e940-ec6f-4867-a345-bc1c9d144727"
      },
      "outputs": [],
      "source": [
        "# convert all column names to uppercase\n",
        "for col in df.columns:\n",
        "  df = df.withColumnRenamed(col, col.upper())"
      ]
    },
    {
      "cell_type": "markdown",
      "id": "b0a960fc-0f60-4093-b135-04fb779d33cc",
      "metadata": {
        "id": "b0a960fc-0f60-4093-b135-04fb779d33cc"
      },
      "source": [
        "### 2. check descriptive statistics"
      ]
    },
    {
      "cell_type": "code",
      "execution_count": null,
      "id": "7dc0f07a-6b10-4cf5-a15b-2469b0907a9b",
      "metadata": {
        "id": "7dc0f07a-6b10-4cf5-a15b-2469b0907a9b"
      },
      "outputs": [],
      "source": [
        "df.describe().limit(20)"
      ]
    },
    {
      "cell_type": "markdown",
      "id": "80beb77e-de1e-4ea3-8a73-e3c4619e614b",
      "metadata": {
        "id": "80beb77e-de1e-4ea3-8a73-e3c4619e614b"
      },
      "source": [
        "### 3. Check DataType"
      ]
    },
    {
      "cell_type": "code",
      "execution_count": null,
      "id": "d048bb60-008b-4c79-87dc-6ae9703bcbea",
      "metadata": {
        "id": "d048bb60-008b-4c79-87dc-6ae9703bcbea"
      },
      "outputs": [],
      "source": [
        "df.printSchema()"
      ]
    },
    {
      "cell_type": "markdown",
      "id": "3b3d485b-303e-482f-966c-9692f60c315c",
      "metadata": {
        "id": "3b3d485b-303e-482f-966c-9692f60c315c"
      },
      "source": [
        "### 4. Check Number columns, rows current"
      ]
    },
    {
      "cell_type": "code",
      "execution_count": null,
      "id": "1869a2ac-0579-44b0-b7ea-d0f24852bbc2",
      "metadata": {
        "id": "1869a2ac-0579-44b0-b7ea-d0f24852bbc2"
      },
      "outputs": [],
      "source": [
        "# Columns\n",
        "len(df.columns)"
      ]
    },
    {
      "cell_type": "code",
      "execution_count": null,
      "id": "c63758b3-a367-4848-b6ae-f492f60ce9f8",
      "metadata": {
        "id": "c63758b3-a367-4848-b6ae-f492f60ce9f8"
      },
      "outputs": [],
      "source": [
        "# Rows\n",
        "df.count()"
      ]
    },
    {
      "cell_type": "markdown",
      "id": "337dffc1-edd9-454d-b07a-87e02566685f",
      "metadata": {
        "id": "337dffc1-edd9-454d-b07a-87e02566685f"
      },
      "source": [
        "### 5. Drop Duplicates"
      ]
    },
    {
      "cell_type": "code",
      "execution_count": null,
      "id": "fb672b6c-e6be-4d3c-b0bb-0b4a4ab29cab",
      "metadata": {
        "id": "fb672b6c-e6be-4d3c-b0bb-0b4a4ab29cab"
      },
      "outputs": [],
      "source": [
        "df = df.dropDuplicates()"
      ]
    },
    {
      "cell_type": "markdown",
      "id": "1c16498a-6da2-4fc1-8403-437795fdff61",
      "metadata": {
        "id": "1c16498a-6da2-4fc1-8403-437795fdff61"
      },
      "source": [
        "### 6. Check Miss Value"
      ]
    },
    {
      "cell_type": "code",
      "execution_count": null,
      "id": "68e60e46-6a73-4f7d-87ee-014e7ddbef1c",
      "metadata": {
        "id": "68e60e46-6a73-4f7d-87ee-014e7ddbef1c"
      },
      "outputs": [],
      "source": [
        "def check_null_count():\n",
        "    for column in df.columns:\n",
        "        null_count = df.filter(df[column].isNull()).count()\n",
        "        print(f\"{column}: {null_count}\")"
      ]
    },
    {
      "cell_type": "code",
      "execution_count": null,
      "id": "ddaf99dd-78e8-4ece-82ed-6081bee69b60",
      "metadata": {
        "id": "ddaf99dd-78e8-4ece-82ed-6081bee69b60"
      },
      "outputs": [],
      "source": [
        "# Số lượng giá trị khuyết thiếu của từng cột\n",
        "check_null_count()"
      ]
    },
    {
      "cell_type": "markdown",
      "id": "42fbdaaa-1895-4d31-9ed8-2153261108e5",
      "metadata": {
        "id": "42fbdaaa-1895-4d31-9ed8-2153261108e5"
      },
      "source": [
        "##### Drop columns with more than 60% missing"
      ]
    },
    {
      "cell_type": "code",
      "execution_count": null,
      "id": "59979bc8-5f48-4697-857e-b0bd65b00472",
      "metadata": {
        "id": "59979bc8-5f48-4697-857e-b0bd65b00472"
      },
      "outputs": [],
      "source": [
        "def column_dropper(df, threshold):\n",
        "    # Takes a dataframe and threshold for missing values. Returns a dataframe.\n",
        "    total_records = df.count()\n",
        "    for col in df.columns:\n",
        "        # Calculate the percentage of missing values\n",
        "        missing = df.where(df[col].isNull()).count()\n",
        "        missing_percent = missing / total_records\n",
        "        # Drop column if percent of missing is more than threshold\n",
        "        if missing_percent > threshold:\n",
        "            df = df.drop(col)\n",
        "    return df\n",
        "\n",
        "# Drop columns that are more than 60% missing\n",
        "df = column_dropper(df, 0.6)"
      ]
    },
    {
      "cell_type": "code",
      "execution_count": null,
      "id": "dfd6df2b-4a42-4a62-ae85-0d882c85405f",
      "metadata": {
        "id": "dfd6df2b-4a42-4a62-ae85-0d882c85405f"
      },
      "outputs": [],
      "source": [
        "check_null_count()"
      ]
    },
    {
      "cell_type": "markdown",
      "id": "b7526960-0c18-4577-ac67-b6542f6ff17e",
      "metadata": {
        "id": "b7526960-0c18-4577-ac67-b6542f6ff17e"
      },
      "source": [
        "### 7. Outlier Filtering"
      ]
    },
    {
      "cell_type": "code",
      "execution_count": null,
      "id": "af033c41-07ea-4474-bcce-9d388e150aef",
      "metadata": {
        "id": "af033c41-07ea-4474-bcce-9d388e150aef"
      },
      "outputs": [],
      "source": [
        "mean_val = df.agg({'BATHROOMCNT': 'mean'}).collect()[0][0]\n",
        "stddev_val = df.agg({'BATHROOMCNT': 'stddev'}).collect()[0][0]\n",
        "\n",
        "low_bound = mean_val - (3 * stddev_val)\n",
        "hi_bound = mean_val + (3 * stddev_val)\n",
        "\n",
        "df = df.where((df['BATHROOMCNT'] < hi_bound) & (df['BATHROOMCNT'] > low_bound))"
      ]
    },
    {
      "cell_type": "markdown",
      "id": "cb41849c-1339-4926-9c6c-3a23507d52ff",
      "metadata": {
        "id": "cb41849c-1339-4926-9c6c-3a23507d52ff"
      },
      "source": [
        "### 8. Adjust Data"
      ]
    },
    {
      "cell_type": "code",
      "execution_count": null,
      "id": "5e57b8b8-3ce2-401d-8dda-2402a608f5ee",
      "metadata": {
        "id": "5e57b8b8-3ce2-401d-8dda-2402a608f5ee"
      },
      "outputs": [],
      "source": [
        "mean = df.agg({'BATHROOMCNT': 'mean'}).collect()[0][0]\n",
        "stddev = df.agg({'BATHROOMCNT': 'stddev'}).collect()[0][0]\n",
        "# Create a new column with the scaled data\n",
        "df = df.withColumn(\"ztrans_days\", (df['BATHROOMCNT'] - mean) / stddev)\n",
        "df.agg({'ztrans_days': 'mean'}).collect()\n",
        "df.agg({'ztrans_days': 'stddev'}).collect()"
      ]
    },
    {
      "cell_type": "markdown",
      "id": "56d5a156-5472-4c77-b72f-173974721375",
      "metadata": {
        "id": "56d5a156-5472-4c77-b72f-173974721375"
      },
      "source": [
        "# Feature Engineering"
      ]
    },
    {
      "cell_type": "markdown",
      "id": "6865adc7-b638-4b5a-b650-d57a415ed110",
      "metadata": {
        "id": "6865adc7-b638-4b5a-b650-d57a415ed110"
      },
      "source": [
        "### 1. Bucketing"
      ]
    },
    {
      "cell_type": "code",
      "execution_count": null,
      "id": "5a695ed2-0573-4fa6-93c8-e123f26042a7",
      "metadata": {
        "id": "5a695ed2-0573-4fa6-93c8-e123f26042a7"
      },
      "outputs": [],
      "source": [
        "splits = [0, 1, 2, 3, 4, float('Inf')]\n",
        "\n",
        "# Create bucketing transformer\n",
        "buck = Bucketizer(splits=splits, inputCol='TAXAMOUNT', outputCol='TAXA')\n",
        "\n",
        "# Apply transformer\n",
        "df = buck.transform(df)\n",
        "\n",
        "# Inspect results\n",
        "df[['TAXAMOUNT', 'TAXA']].show()"
      ]
    },
    {
      "cell_type": "markdown",
      "id": "c487737f-7e48-42b1-83c9-8c5ef75951aa",
      "metadata": {
        "id": "c487737f-7e48-42b1-83c9-8c5ef75951aa"
      },
      "source": [
        "### 2. One-hot Encoding"
      ]
    },
    {
      "cell_type": "code",
      "execution_count": null,
      "id": "cf27659d-29ba-4fab-b8c5-30a979c6a445",
      "metadata": {
        "id": "cf27659d-29ba-4fab-b8c5-30a979c6a445"
      },
      "outputs": [],
      "source": [
        "from pyspark.ml.feature import OneHotEncoder, StringIndexer\n",
        "\n",
        "# Map strings to numbers with string indexer\n",
        "string_indexer = StringIndexer(inputCol='ROOMCNT', outputCol='ROOM_Index')\n",
        "indexed_df = string_indexer.fit(df).transform(df)\n",
        "\n",
        "# Onehot encode indexed values\n",
        "encoder = OneHotEncoder(inputCol='ROOM_Index', outputCol='ROOM_Vec')\n",
        "encoded_df = encoder.fit(indexed_df).transform(indexed_df)\n",
        "\n",
        "# Inspect the transformation steps\n",
        "encoded_df[['ROOMCNT', 'ROOM_Index', 'ROOM_Vec']].show(truncate=100)"
      ]
    }
  ],
  "metadata": {
    "colab": {
      "provenance": []
    },
    "kernelspec": {
      "display_name": "Python 3 (ipykernel)",
      "language": "python",
      "name": "python3"
    },
    "language_info": {
      "codemirror_mode": {
        "name": "ipython",
        "version": 3
      },
      "file_extension": ".py",
      "mimetype": "text/x-python",
      "name": "python",
      "nbconvert_exporter": "python",
      "pygments_lexer": "ipython3",
      "version": "3.11.6"
    }
  },
  "nbformat": 4,
  "nbformat_minor": 5
}
